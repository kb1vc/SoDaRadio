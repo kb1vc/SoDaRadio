{
 "cells": [
  {
   "cell_type": "code",
   "execution_count": null,
   "id": "83211f77",
   "metadata": {},
   "outputs": [],
   "source": [
    "import matplotlib.pyplot as plt\n",
    "import numpy as np\n",
    "import scipy as sc\n",
    "import scipy.signal as sig"
   ]
  },
  {
   "cell_type": "code",
   "execution_count": null,
   "id": "cdc086b3",
   "metadata": {},
   "outputs": [],
   "source": [
    "tv = np.arange(1000)\n",
    "w1 = 0.12 * np.pi\n",
    "w2 = 0.25 * np.pi\n",
    "si2 = np.sin(tv * w1) + np.sin(tv * w2)"
   ]
  },
  {
   "cell_type": "code",
   "execution_count": null,
   "id": "b5d59c8b",
   "metadata": {},
   "outputs": [],
   "source": [
    "plt.plot(tv, si2)"
   ]
  },
  {
   "cell_type": "code",
   "execution_count": null,
   "id": "b4b64db4",
   "metadata": {},
   "outputs": [],
   "source": [
    "sic = si2 + 0j\n",
    "sic[0]"
   ]
  },
  {
   "cell_type": "code",
   "execution_count": null,
   "id": "9028d24a",
   "metadata": {},
   "outputs": [],
   "source": [
    "f, p = sig.periodogram(sic, window='blackman', scaling='spectrum', return_onesided=False)"
   ]
  },
  {
   "cell_type": "code",
   "execution_count": null,
   "id": "15779452",
   "metadata": {},
   "outputs": [],
   "source": [
    "plt.plot(f, p)"
   ]
  },
  {
   "cell_type": "code",
   "execution_count": null,
   "id": "cf2525c1",
   "metadata": {},
   "outputs": [],
   "source": []
  }
 ],
 "metadata": {
  "kernelspec": {
   "display_name": "Python 3 (ipykernel)",
   "language": "python",
   "name": "python3"
  },
  "language_info": {
   "codemirror_mode": {
    "name": "ipython",
    "version": 3
   },
   "file_extension": ".py",
   "mimetype": "text/x-python",
   "name": "python",
   "nbconvert_exporter": "python",
   "pygments_lexer": "ipython3",
   "version": "3.10.6"
  }
 },
 "nbformat": 4,
 "nbformat_minor": 5
}
