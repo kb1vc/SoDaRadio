{
 "cells": [
  {
   "cell_type": "code",
   "execution_count": null,
   "id": "83211f77",
   "metadata": {},
   "outputs": [],
   "source": [
    "%matplotlib notebook\n",
    "import matplotlib.pyplot as plt\n",
    "import numpy as np\n",
    "import scipy as sc\n",
    "import scipy.signal as sig"
   ]
  },
  {
   "cell_type": "code",
   "execution_count": null,
   "id": "340e8a6b",
   "metadata": {},
   "outputs": [],
   "source": [
    "Sr_i = 625\n",
    "Sr_o = 48\n",
    "vl = Sr_i * 48\n",
    "vl"
   ]
  },
  {
   "cell_type": "code",
   "execution_count": null,
   "id": "c80d9d32",
   "metadata": {},
   "outputs": [],
   "source": [
    "# sample input signal -- at 10 kHz \n",
    "f_i = 10\n",
    "w_i = 2 * np.pi * f_i\n",
    "t = np.arange(vl)\n",
    "s_i = np.exp(t * 1j * w_i / Sr_i)"
   ]
  },
  {
   "cell_type": "code",
   "execution_count": null,
   "id": "fe368e2c",
   "metadata": {},
   "outputs": [],
   "source": [
    "plt.plot(np.abs(np.fft.fft(s_i)/30000)[0:3000])"
   ]
  },
  {
   "cell_type": "code",
   "execution_count": null,
   "id": "d6094b39",
   "metadata": {},
   "outputs": [],
   "source": [
    "def makeLPF(cutoff, rate, length, taps):\n",
    "    fdi = np.zeros(length) * 1j\n",
    "    print(\"length = %d\" % length)\n",
    "    co_idx = int(length * cutoff / float(rate))\n",
    "    print(co_idx)\n",
    "    fdi[0:co_idx] = 1 + 0j\n",
    "    fdi[co_idx:co_idx+20] = np.linspace(1, 0, 20)\n",
    "    fdi[int(length/2):] = np.flip(fdi[0:int(length/2)])\n",
    "    \n",
    "    tdi = np.fft.ifft(fdi)\n",
    "    #plt.plot(tdi[0:200], label='pos')\n",
    "    #plt.plot(tdi[-200:], label='neg')\n",
    "    #print(tdi[-10:])\n",
    "    # window it\n",
    "    win = sig.windows.blackman(taps, sym=False)\n",
    "    #win = np.ones(taps)\n",
    "    tidx = int(taps/2)\n",
    "    #plt.plot(win)\n",
    "    \n",
    "    tdi[tidx:taps] = tdi[0:tidx+1]\n",
    "    tdi[0:tidx] = np.flip(tdi[1:tidx+1])\n",
    "    #plt.plot(tdi, label='prewin')\n",
    "    tdi[0:taps] = tdi[0:taps]*win\n",
    "    #plt.plot(tdi, label='shift')\n",
    "    \n",
    "    tdi[taps:] = 0 + 0j\n",
    "    tdi = np.real(tdi)\n",
    "    fo = np.fft.fft(tdi)\n",
    "\n",
    "    return fo, tdi, fdi\n",
    "    "
   ]
  },
  {
   "cell_type": "code",
   "execution_count": null,
   "id": "5f38fa09",
   "metadata": {},
   "outputs": [],
   "source": [
    "class OSReSampler: \n",
    "    def __init__(self, FSin, FSout, min_time):\n",
    "        from math import gcd\n",
    "        g = gcd(FSin, FSout)  \n",
    "        U = int(FSout / g)\n",
    "        D = int(FSin / g)\n",
    "        \n",
    "        self.U = U\n",
    "        self.D = D\n",
    "  \n",
    "        # the Fx buffer (in) must be a multiple of D, but\n",
    "        # must also be large enough to provide a minimum buffer size\n",
    "        # so the minimum number of samples is \n",
    "        min_in_samples = FSin * min_time\n",
    "        # and k (Lx = k D) is\n",
    "        k = int((min_in_samples + D - 1) / D)\n",
    "        self.Lx = k * D\n",
    "        self.Ly = int(self.Lx * U / D)\n",
    "        \n",
    "        \n",
    "        # we're doing an overlap-and-save where we hold the\n",
    "        # last D samples\n",
    "        self.save_count = D\n",
    "        self.save_buf = np.zeros(self.save_count)* 1j        \n",
    "        self.in_buf_size = self.Lx - D\n",
    "        self.out_buf_size = self.Ly - U\n",
    "        self.discard_count = U\n",
    "\n",
    "        extract_buckets = min(self.Ly, self.Lx)\n",
    "        self.olh = int((extract_buckets + 1) / 2)\n",
    "        self.ohh = self.Ly - self.olh     \n",
    "\n",
    "        # make the de-aliasing filter... \n",
    "        cutoff = min(FSin, FSout)\n",
    "        # Use the filter whether U > D or U < D. In the upsampling \n",
    "        # case it tapers the edges of the input spectrum to keep nasty things\n",
    "        # from happening at the input-band-edge, at the expense of 20% of the\n",
    "        # spectrum that you shouldn't have been trusting anyhow.\n",
    "        self.lpf, _, _ = makeLPF(cutoff*0.4,FSin, self.Lx, 41)\n",
    "    \n",
    "    def getInBufSize(self):\n",
    "        return self.in_buf_size\n",
    "    \n",
    "    def getOutBufSize(self):\n",
    "        return self.out_buf_size\n",
    "    \n",
    "    def apply(self, inb):\n",
    "        os_inbuf = np.concatenate((self.save_buf, inb))\n",
    "        self.save_buf = inb[-self.save_count:]\n",
    "        \n",
    "        if os_inbuf.size != self.Lx:\n",
    "            print(\"Input buffer length was %d, it should be %d\" % (inb.size, self.getInBufSize()))\n",
    "        \n",
    "        # now get the DFT image\n",
    "        fin = np.fft.fft(os_inbuf) #* self.lpf\n",
    "        fin = fin * self.lpf\n",
    "        fout = np.zeros(self.Ly) * 1j\n",
    "        print(\"fin.size %d fout.size %d\" % (fin.size, fout.size))\n",
    "        fout[0:self.olh] = fin[0:self.olh]\n",
    "        fout[-self.olh:] = fin[-self.olh:]\n",
    "        \n",
    "        # now invert\n",
    "        pre_out = np.fft.ifft(fout)\n",
    "        # throw away the first dirty camples\n",
    "        return (self.Ly / self.Lx) * pre_out[self.discard_count:] \n",
    "   \n",
    " "
   ]
  },
  {
   "cell_type": "code",
   "execution_count": null,
   "id": "eeae409f",
   "metadata": {},
   "outputs": [],
   "source": [
    "rsamp = OSReSampler(48000,625000,0.01)\n",
    "# buffers are in 2304 - 48 entry chunks. (48 element overlap on input)\n",
    "Lx = rsamp.getInBufSize()\n",
    "tv = np.arange(Lx * 3)\n",
    "print(\"inbuf %d\" % Lx)\n",
    "\n",
    "\n",
    "f1 = np.exp(1j * tv * np.pi/32) + np.exp(1j * tv * -np.pi / 71) #+ np.exp(1j * tv / 23)\n",
    "# DC correct\n",
    "print(\"f1 mean = %f %f\" % (np.real(np.mean(f1)), np.imag(np.mean(f1))))\n",
    "f1 = f1 - np.mean(f1)\n",
    "# buffers are in 2304 - 48 entry chunks. (48 element overlap on input)\n",
    "\n",
    "f2_lo = rsamp.apply(f1[0:Lx])\n",
    "f2_hi = rsamp.apply(f1[Lx:2*Lx])\n",
    "f2_very = rsamp.apply(f1[2*Lx:])\n",
    "#f2 = FDResampler(U, D, f1)\n",
    "f2_lo.size, np.mean(f1), np.mean(f2_hi), np.mean(f2_lo)\n",
    "#np.sum(f2[0:mid] - f2_lo)  #+ #np.sum(f2[mid:] - f2_hi), np.max(np.real(f2[0:mid] - f2_lo)), np.max(np.real(f2[mid:] - f2_hi))"
   ]
  },
  {
   "cell_type": "code",
   "execution_count": null,
   "id": "12773ef9",
   "metadata": {},
   "outputs": [],
   "source": [
    "#plt.plot(np.imag(f2_lo[-625:]))\n",
    "#plt.plot(np.imag(f2_hi[0:625]))\n",
    "#plt.plot(np.imag(f2_hi[-625:]))\n",
    "#plt.plot(np.imag(f2_lo[0:625]))\n",
    "fig,ax = plt.subplots()\n",
    "#ax.plot(np.concatenate((f2_lo[-625:], f2_hi[0:625])))\n",
    "ax.plot(np.concatenate((f2_lo, f2_hi, f2_very)))\n",
    "#ax.plot(f2_hi)\n",
    "f2_lo[0:10]\n",
    "ax.grid()\n",
    "f1.shape, f2_lo.shape"
   ]
  },
  {
   "cell_type": "code",
   "execution_count": null,
   "id": "c0c14966",
   "metadata": {},
   "outputs": [],
   "source": [
    "f2 = np.concatenate((f2_lo, f2_hi))\n",
    "\n",
    "f,v = sig.periodogram(f2, fs=625, window='blackman')\n",
    "fif,vif = sig.periodogram(f1, fs=48, window='blackman')\n",
    "\n",
    "fig,ax=plt.subplots()\n",
    "\n",
    "ax.plot(fif, 20 * np.log10(vif))\n",
    "ax.plot(f, 20 * np.log10(v))\n",
    "ax.grid()\n",
    "v.shape\n",
    "np.mean(np.real(f1)), np.mean(np.imag(f1)), np.mean(f2)"
   ]
  },
  {
   "cell_type": "code",
   "execution_count": null,
   "id": "60ddd2dd",
   "metadata": {},
   "outputs": [],
   "source": [
    "# how about the other way? \n",
    "downsamp = OSReSampler(625000,48000, 0.01)\n",
    "\n",
    "inbuflen =  downsamp.getInBufSize()\n",
    "print(\"inbuflen %d\" % inbuflen)\n",
    "iftv = np.arange(3 * inbuflen)\n",
    "f1 = 0.5\n",
    "f2 = 0.8\n",
    "f3 = 73.0\n",
    "fs = 625\n",
    "w1 = 2 * np.pi * f1 / fs\n",
    "w2 = 2 * np.pi * f2 / fs\n",
    "w3 = 2 * np.pi * f3 / fs\n",
    "ifsig = np.exp(1j * iftv * w1) + np.exp(1j * iftv * w2) + np.exp(1j * iftv * -w3)\n",
    "\n",
    "audsig_0 = downsamp.apply(ifsig[0:inbuflen])\n",
    "audsig_1 = downsamp.apply(ifsig[inbuflen:inbuflen*2])\n",
    "audsig_2 = downsamp.apply(ifsig[inbuflen*2:])\n",
    "inbuflen"
   ]
  },
  {
   "cell_type": "code",
   "execution_count": null,
   "id": "6a86880d",
   "metadata": {},
   "outputs": [],
   "source": [
    "ifsig.size/2, audsig_1.size\n"
   ]
  },
  {
   "cell_type": "code",
   "execution_count": null,
   "id": "3d6864b4",
   "metadata": {},
   "outputs": [],
   "source": [
    "fig,ax = plt.subplots()\n",
    "ax.plot(np.real(np.concatenate((audsig_0[-U:], audsig_1[0:U]))))\n",
    "ax.plot(np.real(np.concatenate((audsig_1[-U:], audsig_2[0:U]))))\n",
    "ax.plot(np.real(np.concatenate((audsig_0, audsig_1, audsig_2))))\n",
    "audsig_0.size\n",
    "ax.grid()\n",
    "audsig_0.size"
   ]
  },
  {
   "cell_type": "code",
   "execution_count": null,
   "id": "b400744e",
   "metadata": {},
   "outputs": [],
   "source": [
    "audsig = np.concatenate((audsig_0, audsig_1, audsig_2))\n",
    "audsig.size\n",
    "\n",
    "f,v = sig.periodogram(audsig, fs=48, window='blackman')\n",
    "fif,vif = sig.periodogram(ifsig, fs=625, window='blackman')\n",
    "\n",
    "fig,ax=plt.subplots()\n",
    "ax.plot(fif[1:-1], 20 * np.log10(vif[1:-1]))\n",
    "ax.plot(f[1:-1], 20 * np.log10(v[1:-1]))\n",
    "\n",
    "ax.grid()\n",
    "v.shape, vif.shape"
   ]
  },
  {
   "cell_type": "code",
   "execution_count": null,
   "id": "b0fee85c",
   "metadata": {},
   "outputs": [],
   "source": [
    "fig,ax=plt.subplots()\n",
    "ax.plot(f)"
   ]
  },
  {
   "cell_type": "code",
   "execution_count": null,
   "id": "7fa644a9",
   "metadata": {},
   "outputs": [],
   "source": []
  }
 ],
 "metadata": {
  "kernelspec": {
   "display_name": "Python 3 (ipykernel)",
   "language": "python",
   "name": "python3"
  },
  "language_info": {
   "codemirror_mode": {
    "name": "ipython",
    "version": 3
   },
   "file_extension": ".py",
   "mimetype": "text/x-python",
   "name": "python",
   "nbconvert_exporter": "python",
   "pygments_lexer": "ipython3",
   "version": "3.10.4"
  }
 },
 "nbformat": 4,
 "nbformat_minor": 5
}
