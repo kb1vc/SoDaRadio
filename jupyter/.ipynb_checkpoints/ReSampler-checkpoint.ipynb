{
 "cells": [
  {
   "cell_type": "code",
   "execution_count": 1,
   "id": "83211f77",
   "metadata": {},
   "outputs": [],
   "source": [
    "import matplotlib.pyplot as plt\n",
    "import numpy as np\n",
    "import scipy as sc\n",
    "import scipy.signal as sig\n"
   ]
  },
  {
   "cell_type": "code",
   "execution_count": 2,
   "id": "340e8a6b",
   "metadata": {},
   "outputs": [
    {
     "data": {
      "text/plain": [
       "30000"
      ]
     },
     "execution_count": 2,
     "metadata": {},
     "output_type": "execute_result"
    }
   ],
   "source": [
    "Sr_i = 625\n",
    "Sr_o = 48\n",
    "vl = Sr_i * 48\n",
    "vl"
   ]
  },
  {
   "cell_type": "code",
   "execution_count": 3,
   "id": "c80d9d32",
   "metadata": {},
   "outputs": [],
   "source": [
    "# sample input signal -- at 10 kHz \n",
    "f_i = 10\n",
    "w_i = 2 * np.pi * f_i\n",
    "t = np.arange(vl)\n",
    "s_i = np.exp(t * 1j * w_i / Sr_i)"
   ]
  },
  {
   "cell_type": "code",
   "execution_count": 4,
   "id": "fe368e2c",
   "metadata": {},
   "outputs": [
    {
     "data": {
      "text/plain": [
       "[<matplotlib.lines.Line2D at 0x7f1b927cd7e0>]"
      ]
     },
     "execution_count": 4,
     "metadata": {},
     "output_type": "execute_result"
    },
    {
     "data": {
      "image/png": "[encoded data removed]",
      "text/plain": [
       "<Figure size 432x288 with 1 Axes>"
      ]
     },
     "metadata": {
      "needs_background": "light"
     },
     "output_type": "display_data"
    }
   ],
   "source": [
    "plt.plot(np.abs(np.fft.fft(s_i)/30000)[0:3000])"
   ]
  },
  {
   "cell_type": "code",
   "execution_count": 5,
   "id": "d6094b39",
   "metadata": {},
   "outputs": [],
   "source": [
    "def makeLPF(cutoff, rate, length, taps):\n",
    "    fdi = np.zeros(length) * 1j\n",
    "    co_idx = int(length * cutoff / float(rate))\n",
    "    print(co_idx)\n",
    "    fdi[0:co_idx] = 1 + 0j\n",
    "    fdi[co_idx:co_idx+20] = np.linspace(1, 0, 20)\n",
    "    fdi[int(length/2):] = np.flip(fdi[0:int(length/2)])\n",
    "    \n",
    "    tdi = np.fft.ifft(fdi)\n",
    "    #plt.plot(tdi[0:200], label='pos')\n",
    "    #plt.plot(tdi[-200:], label='neg')\n",
    "    #print(tdi[-10:])\n",
    "    # window it\n",
    "    win = sig.windows.blackman(taps, sym=False)\n",
    "    #win = np.ones(taps)\n",
    "    tidx = int(taps/2)\n",
    "    #plt.plot(win)\n",
    "    \n",
    "    tdi[tidx:taps] = tdi[0:tidx+1]\n",
    "    tdi[0:tidx] = np.flip(tdi[1:tidx+1])\n",
    "    plt.plot(tdi, label='prewin')\n",
    "    tdi[0:taps] = tdi[0:taps]*win\n",
    "    plt.plot(tdi, label='shift')\n",
    "    \n",
    "    tdi[taps:] = 0 + 0j\n",
    "    tdi = np.real(tdi)\n",
    "    fo = np.fft.fft(tdi)\n",
    "\n",
    "    return fo, tdi, fdi\n",
    "    "
   ]
  },
  {
   "cell_type": "code",
   "execution_count": 6,
   "id": "99fb6f6c",
   "metadata": {},
   "outputs": [
    {
     "name": "stdout",
     "output_type": "stream",
     "text": [
      "2112\n"
     ]
    },
    {
     "name": "stderr",
     "output_type": "stream",
     "text": [
      "/usr/lib64/python3.10/site-packages/matplotlib/cbook/__init__.py:1298: ComplexWarning: Casting complex values to real discards the imaginary part\n",
      "  return np.asarray(x, float)\n"
     ]
    },
    {
     "data": {
      "text/plain": [
       "array([0.09552207, 0.11883622, 0.13495087, 0.14124673, 0.13664254,\n",
       "       0.12184091])"
      ]
     },
     "execution_count": 6,
     "metadata": {},
     "output_type": "execute_result"
    },
    {
     "data": {
      "image/png": "[encoded data removed]",
      "text/plain": [
       "<Figure size 432x288 with 1 Axes>"
      ]
     },
     "metadata": {
      "needs_background": "light"
     },
     "output_type": "display_data"
    }
   ],
   "source": [
    "fo2, tdi2, fdi2 = makeLPF(44, 625, vl, 51)\n",
    "#plt.plot(sig.windows.hamming(41, sym=True))\n",
    "#plt.plot(tdi[0:160])\n",
    "#plt.plot(tdi2[0:160])\n",
    "plt.xlim(20,30)\n",
    "#plt.ylim(-0.025,0.025)\n",
    "#plt.plot(tdi2[-160:])\n",
    "plt.grid()\n",
    "plt.legend()\n",
    "tdi2[22:28]"
   ]
  },
  {
   "cell_type": "code",
   "execution_count": null,
   "id": "891f411c",
   "metadata": {},
   "outputs": [],
   "source": [
    "def FDResampler(U,D,inb):\n",
    "    # first calculate the LCM of the U/D spec\n",
    "    from math import gcd\n",
    "    g = gcd(U,D)\n",
    "    # now the common buffer length\n",
    "    blen = int(U * D / (g * g))\n",
    "    inbuf = np.zeros(blen) * 1j\n",
    "    inbuf[0:blen] = inb[0:blen]\n",
    "    # now "
   ]
  },
  {
   "cell_type": "code",
   "execution_count": 19,
   "id": "e164f1a6",
   "metadata": {},
   "outputs": [
    {
     "data": {
      "text/plain": [
       "(1000, 30000000000, 30000.0)"
      ]
     },
     "execution_count": 19,
     "metadata": {},
     "output_type": "execute_result"
    }
   ],
   "source": [
    "from math import lcm\n",
    "from math import gcd\n",
    "U=625000\n",
    "D=48000\n",
    "v1 = gcd(U,D)\n",
    "v2 = U*D\n",
    "v1, v2, v2 / (v1 * v1)"
   ]
  },
  {
   "cell_type": "code",
   "execution_count": null,
   "id": "b5f91f81",
   "metadata": {},
   "outputs": [],
   "source": []
  }
 ],
 "metadata": {
  "kernelspec": {
   "display_name": "Python 3 (ipykernel)",
   "language": "python",
   "name": "python3"
  },
  "language_info": {
   "codemirror_mode": {
    "name": "ipython",
    "version": 3
   },
   "file_extension": ".py",
   "mimetype": "text/x-python",
   "name": "python",
   "nbconvert_exporter": "python",
   "pygments_lexer": "ipython3",
   "version": "3.10.4"
  }
 },
 "nbformat": 4,
 "nbformat_minor": 5
}
