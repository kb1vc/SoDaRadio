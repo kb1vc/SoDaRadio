{
 "cells": [
  {
   "cell_type": "code",
   "execution_count": null,
   "id": "83211f77",
   "metadata": {},
   "outputs": [],
   "source": [
    "import matplotlib.pyplot as plt\n",
    "import numpy as np\n",
    "import scipy as sc\n",
    "import scipy.signal as sig\n"
   ]
  },
  {
   "cell_type": "code",
   "execution_count": null,
   "id": "340e8a6b",
   "metadata": {},
   "outputs": [],
   "source": [
    "Sr_i = 625\n",
    "Sr_o = 48\n",
    "vl = Sr_i * 48\n",
    "vl"
   ]
  },
  {
   "cell_type": "code",
   "execution_count": null,
   "id": "c80d9d32",
   "metadata": {},
   "outputs": [],
   "source": [
    "# sample input signal -- at 10 kHz \n",
    "f_i = 10\n",
    "w_i = 2 * np.pi * f_i\n",
    "t = np.arange(vl)\n",
    "s_i = np.exp(t * 1j * w_i / Sr_i)"
   ]
  },
  {
   "cell_type": "code",
   "execution_count": null,
   "id": "fe368e2c",
   "metadata": {},
   "outputs": [],
   "source": [
    "plt.plot(np.abs(np.fft.fft(s_i)/30000)[0:3000])"
   ]
  },
  {
   "cell_type": "code",
   "execution_count": null,
   "id": "d6094b39",
   "metadata": {},
   "outputs": [],
   "source": [
    "def makeLPF(cutoff, rate, length, taps):\n",
    "    fdi = np.zeros(length) * 1j\n",
    "    co_idx = int(length * cutoff / float(rate))\n",
    "    print(co_idx)\n",
    "    fdi[0:co_idx] = 1 + 0j\n",
    "    fdi[co_idx:co_idx+20] = np.linspace(1, 0, 20)\n",
    "    fdi[int(length/2):] = np.flip(fdi[0:int(length/2)])\n",
    "    \n",
    "    tdi = np.fft.ifft(fdi)\n",
    "    #plt.plot(tdi[0:200], label='pos')\n",
    "    #plt.plot(tdi[-200:], label='neg')\n",
    "    #print(tdi[-10:])\n",
    "    # window it\n",
    "    win = sig.windows.blackman(taps, sym=False)\n",
    "    #win = np.ones(taps)\n",
    "    tidx = int(taps/2)\n",
    "    #plt.plot(win)\n",
    "    \n",
    "    tdi[tidx:taps] = tdi[0:tidx+1]\n",
    "    tdi[0:tidx] = np.flip(tdi[1:tidx+1])\n",
    "    plt.plot(tdi, label='prewin')\n",
    "    tdi[0:taps] = tdi[0:taps]*win\n",
    "    plt.plot(tdi, label='shift')\n",
    "    \n",
    "    tdi[taps:] = 0 + 0j\n",
    "    tdi = np.real(tdi)\n",
    "    fo = np.fft.fft(tdi)\n",
    "\n",
    "    return fo, tdi, fdi\n",
    "    "
   ]
  },
  {
   "cell_type": "code",
   "execution_count": null,
   "id": "99fb6f6c",
   "metadata": {},
   "outputs": [],
   "source": [
    "fo2, tdi2, fdi2 = makeLPF(44, 625, vl, 51)\n",
    "#plt.plot(sig.windows.hamming(41, sym=True))\n",
    "#plt.plot(tdi[0:160])\n",
    "#plt.plot(tdi2[0:160])\n",
    "plt.xlim(20,30)\n",
    "#plt.ylim(-0.025,0.025)\n",
    "#plt.plot(tdi2[-160:])\n",
    "plt.grid()\n",
    "plt.legend()\n",
    "tdi2[22:28]"
   ]
  },
  {
   "cell_type": "code",
   "execution_count": null,
   "id": "f6ab01a1",
   "metadata": {},
   "outputs": [],
   "source": [
    "plt.plot(20 * np.log10(np.abs(np.fft.fftshift(fo)))) #(fo[-5000:])))\n",
    "plt.plot(20 * np.log10(np.abs(np.fft.fftshift(fo2))))\n",
    "plt.plot(20 * np.log10(np.abs(np.fft.fftshift(fdi2 + 1e-8))))\n",
    "plt.grid()\n",
    "plt.xlim(10000,20000)\n",
    "plt.ylim(-10,5)\n",
    "fo.shape"
   ]
  },
  {
   "cell_type": "code",
   "execution_count": null,
   "id": "f2f9a29f",
   "metadata": {},
   "outputs": [],
   "source": [
    "plt.plot(np.angle(np.fft.fftshift(fo2)))\n",
    "plt.plot(np.log10(np.abs(np.fft.fftshift(fo2))))\n",
    "plt.xlim(10000,20000)"
   ]
  },
  {
   "cell_type": "code",
   "execution_count": null,
   "id": "bf036188",
   "metadata": {},
   "outputs": [],
   "source": [
    "fo51,td51, fi51 = makeLPF(25, 100, vl, 51)\n",
    "fo41,td41, fi41 = makeLPF(25, 100, vl, 41)"
   ]
  },
  {
   "cell_type": "code",
   "execution_count": null,
   "id": "96415b45",
   "metadata": {},
   "outputs": [],
   "source": [
    "plt.plot(td51)\n",
    "plt.plot(td41)\n",
    "plt.xlim(0,51)\n",
    "plt.grid()"
   ]
  },
  {
   "cell_type": "code",
   "execution_count": null,
   "id": "114fd3fa",
   "metadata": {},
   "outputs": [],
   "source": [
    "plt.plot(20 * np.log10(np.abs(np.fft.fftshift(fo51))))\n",
    "plt.plot(20 * np.log10(np.abs(np.fft.fftshift(fo41))))\n",
    "#plt.plot(20 * np.log10(np.abs(np.fft.fftshift(fi41 + 1e-9))))\n",
    "#plt.ylim(-70,5)\n",
    "plt.grid()"
   ]
  },
  {
   "cell_type": "code",
   "execution_count": null,
   "id": "3f98af65",
   "metadata": {},
   "outputs": [],
   "source": [
    "def sweep(filt, N):\n",
    "    slen = filt.shape[0]\n",
    "    winc = np.linspace(-np.pi, np.pi, N)\n",
    "    t = np.arange(slen)\n",
    "    res = np.zeros(N)\n",
    "    for i in range(N):\n",
    "        s = np.exp(t * winc[i] * 1j)\n",
    "        fs = np.fft.fft(s)\n",
    "        ffs = fs * filt\n",
    "        r = np.fft.ifft(ffs)\n",
    "        res[i] = np.sum(np.abs(r)) / N\n",
    "    return winc, res   \n",
    "    \n",
    "    "
   ]
  },
  {
   "cell_type": "code",
   "execution_count": null,
   "id": "5cd32289",
   "metadata": {},
   "outputs": [],
   "source": [
    "theta, res = sweep(fo51, 200)\n",
    "plt.plot(theta, 20 * np.log10(res))\n",
    "plt.grid()\n",
    "plt.ylim(30,50)"
   ]
  },
  {
   "cell_type": "code",
   "execution_count": null,
   "id": "f7961dda",
   "metadata": {},
   "outputs": [],
   "source": [
    "def reSample(v_in, sr_i, sr_o, lpf):\n",
    "    pfv_i = np.fft.fft(v_in)\n",
    "    fv_i = pfv_i * lpf\n",
    "    plt.plot(np.log10(np.abs(pfv_i))[0:5000])\n",
    "    plt.plot(np.log10(np.abs(fv_i))[0:5000])\n",
    "    num_out_samps = int(v_in.shape[0] * sr_o / sr_i)\n",
    "    fv_o = np.zeros(num_out_samps) * 1j\n",
    "    nos2 = int(num_out_samps / 2)\n",
    "    fv_o[0:nos2] = fv_i[0:nos2]\n",
    "    fv_o[nos2:] = fv_i[-nos2:]\n",
    "    v_o = np.fft.ifft(fv_o)\n",
    "    # now correct the amplitude\n",
    "    v_o = v_o * sr_o / float(sr_i)\n",
    "    return v_o"
   ]
  },
  {
   "cell_type": "code",
   "execution_count": null,
   "id": "75c3c9be",
   "metadata": {},
   "outputs": [],
   "source": [
    "s_o = reSample(s_i, Sr_i, Sr_o, fo )"
   ]
  },
  {
   "cell_type": "code",
   "execution_count": null,
   "id": "8565c8ea",
   "metadata": {},
   "outputs": [],
   "source": [
    "plt.plot(s_o[0:100])\n",
    "s_o.shape, s_i.shape[0] * 48 / 625"
   ]
  },
  {
   "cell_type": "code",
   "execution_count": null,
   "id": "8343bf72",
   "metadata": {},
   "outputs": [],
   "source": [
    "plt.plot(s_o[0:48])"
   ]
  },
  {
   "cell_type": "code",
   "execution_count": null,
   "id": "e84ad9ce",
   "metadata": {},
   "outputs": [],
   "source": [
    "idx=np.arange(1000)\n",
    "plt.plot(idx, np.log10(np.abs(np.fft.fft(s_o)[0:1000])))\n",
    "plt.plot(idx+1,np.log10(np.abs(np.fft.fft(s_i)[0:1000])))\n",
    "plt.grid()\n",
    "plt.ylim(-2,5)"
   ]
  },
  {
   "cell_type": "code",
   "execution_count": null,
   "id": "22f5eb37",
   "metadata": {},
   "outputs": [],
   "source": [
    "def TDResampler(v_in, interp, decim, lpf):\n",
    "\n",
    "    # interpolate by interp and decimate by decim\n",
    "    inlen = v_in.shape[0]\n",
    "    outlen = int(inlen * interp / decim)\n",
    "    out = np.zeros(outlen) * 1j\n",
    "    m = 0\n",
    "    n = lpf.shape[0]\n",
    "    k = 0\n",
    "    L = interp\n",
    "    M = decim\n",
    "    czero = 0 * (1 + 1j)\n",
    "    taps = lpf.shape[0]\n",
    "    for m in range(outlen):\n",
    "        if n >= v_in.shape[0]:\n",
    "            break;\n",
    "        for i in range(taps):\n",
    "            rsum = lpf[(i * L + k) % taps] * v_in[n - i]\n",
    "        out[m] = rsum\n",
    "        n = n + 1\n",
    "        k = k + M\n",
    "        while k >= L:\n",
    "            k = k - L\n",
    "            n = n + 1\n",
    "            \n",
    "    return out\n",
    "\n"
   ]
  },
  {
   "cell_type": "code",
   "execution_count": null,
   "id": "5c717178",
   "metadata": {},
   "outputs": [],
   "source": [
    "s_o = TDResampler(s_i, 5, 3, tdi )\n",
    "Sr_i, Sr_o, s_i.shape"
   ]
  },
  {
   "cell_type": "code",
   "execution_count": null,
   "id": "96703139",
   "metadata": {},
   "outputs": [],
   "source": [
    "plt.plot(0.5e6 * s_o[0:200])\n",
    "plt.plot(s_i[0:200])"
   ]
  },
  {
   "cell_type": "code",
   "execution_count": null,
   "id": "fd0df0fb",
   "metadata": {},
   "outputs": [],
   "source": [
    "def FDResampler(v_in, filt, U, D):\n",
    "    # V_in must be of a length so that U/D\n",
    "    # upsample -- FFT, filter, then stuff. \n",
    "    # downsample -- FFT, filter, then trim\n",
    "    fv_in = np.fft.fft(v_in)\n",
    "    # filter\n",
    "    fv_in = fv_in * filt\n",
    "\n",
    "    # upsample -- absurdly naive\n",
    "    v_in_len = v_in.shape[0]\n",
    "    \n",
    "    # stuff amount is \n",
    "    stuff_len = int(v_in_len * U / D)\n",
    "    # is it really even? \n",
    "    if stuff_len * D != v_in_len * U:\n",
    "        print(\"Ooops! v_in len %d * %d / %d is not an inter: %f\" % (v_in_len, U, D, v_in_len * U / D))\n",
    "    fv_out = np.zeros(stuff_len) * 1j\n",
    "    if(stuff_len < v_in_len): \n",
    "        sl_h = int(stuff_len / 2)\n",
    "        fv_out[0:sl_h] = fv_in[0:sl_h]\n",
    "        fv_out[-sl_h:] = fv_in[-sl_h:]\n",
    "    else:    \n",
    "        vilh = int( v_in_len / 2)\n",
    "        fv_out[0:vilh] = fv_in[0:vilh]\n",
    "        fv_out[-vilh:] = fv_in[-vilh:]\n",
    "    # now return result\n",
    "    return np.fft.ifft(fv_out)\n",
    "    "
   ]
  },
  {
   "cell_type": "code",
   "execution_count": null,
   "id": "a570c14b",
   "metadata": {},
   "outputs": [],
   "source": [
    "plt.plot(s_i[0:625])"
   ]
  },
  {
   "cell_type": "code",
   "execution_count": null,
   "id": "6527c3ed",
   "metadata": {},
   "outputs": [],
   "source": [
    "su2_i = FDResampler(s_i, np.ones(s_i.shape[0]), 48, 625)\n",
    "su2_i.shape, s_i.shape"
   ]
  },
  {
   "cell_type": "code",
   "execution_count": null,
   "id": "02acf3c4",
   "metadata": {},
   "outputs": [],
   "source": [
    "plt.plot(np.real(su2_i[0:48]))\n",
    "plt.grid()"
   ]
  },
  {
   "cell_type": "code",
   "execution_count": null,
   "id": "69ec8d5e",
   "metadata": {},
   "outputs": [],
   "source": [
    "### def isInt(a, u, l):\n",
    "    v = int(a * u / l)\n",
    "    return a * u == v * l\n",
    "\n",
    "def nextP235(a):\n",
    "    best = 10000000\n",
    "    for e2 in range(20):\n",
    "        for e3 in range(5):\n",
    "            for e5 in range(4):\n",
    "                s = (2 ** e2)  * (3 ** e3) * (5 ** e5)\n",
    "                if s > (a + 41):\n",
    "                    if s < best:\n",
    "                        best = s\n",
    "    return best\n",
    "\n",
    "def findGood(Rr, Ra): \n",
    "    Sa_min = int(0.05 * Ra)\n",
    "    Sa_max = int(0.15 * Ra)\n",
    "    print(\"Sa_min %d  Sa_max %d\" % (Sa_min, Sa_max))\n",
    "    Sb_min = 1000000\n",
    "    Sa_opt = 0\n",
    "    for s in range(Sa_min, Sa_max):\n",
    "        if isInt(s, Rr, Ra):\n",
    "            Sr = s * Rr / Ra\n",
    "            Sb = nextP235(Sr)\n",
    "            #print(\"Sr %d Sb %d\" % (Sr, Sb))\n",
    "            if Sb < Sb_min:\n",
    "                Sb_min = Sb\n",
    "                Sa_opt = Sr\n",
    "    return Sb_min, Sa_opt, Sa_opt * Ra / Rr"
   ]
  },
  {
   "cell_type": "code",
   "execution_count": null,
   "id": "9b863ee1",
   "metadata": {},
   "outputs": [],
   "source": [
    "findGood(625000, 44100)"
   ]
  },
  {
   "cell_type": "code",
   "execution_count": null,
   "id": "da371be6",
   "metadata": {},
   "outputs": [],
   "source": [
    "math.factor(32000)"
   ]
  },
  {
   "cell_type": "code",
   "execution_count": null,
   "id": "d7673376",
   "metadata": {},
   "outputs": [],
   "source": [
    "32000 / 256"
   ]
  },
  {
   "cell_type": "code",
   "execution_count": null,
   "id": "891f411c",
   "metadata": {},
   "outputs": [],
   "source": [
    "2304 / 48000\n"
   ]
  },
  {
   "cell_type": "code",
   "execution_count": null,
   "id": "e164f1a6",
   "metadata": {},
   "outputs": [],
   "source": []
  }
 ],
 "metadata": {
  "kernelspec": {
   "display_name": "Python 3 (ipykernel)",
   "language": "python",
   "name": "python3"
  },
  "language_info": {
   "codemirror_mode": {
    "name": "ipython",
    "version": 3
   },
   "file_extension": ".py",
   "mimetype": "text/x-python",
   "name": "python",
   "nbconvert_exporter": "python",
   "pygments_lexer": "ipython3",
   "version": "3.10.4"
  }
 },
 "nbformat": 4,
 "nbformat_minor": 5
}
