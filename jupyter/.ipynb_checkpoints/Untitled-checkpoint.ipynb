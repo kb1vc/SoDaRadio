{
 "cells": [
  {
   "cell_type": "code",
   "execution_count": 1,
   "id": "b168eb32",
   "metadata": {},
   "outputs": [],
   "source": [
    "import matplotlib.pyplot as plt\n",
    "import numpy as np\n",
    "import scipy as sc\n"
   ]
  },
  {
   "cell_type": "code",
   "execution_count": 10,
   "id": "11e6ede1",
   "metadata": {},
   "outputs": [],
   "source": [
    "Sr_i = 625\n",
    "Sr_o = 48\n",
    "vl = Sr_i * 48"
   ]
  },
  {
   "cell_type": "code",
   "execution_count": 11,
   "id": "e7346311",
   "metadata": {},
   "outputs": [],
   "source": [
    "# sample input signal -- at 10 kHz \n",
    "f_i = 10\n",
    "w_i = 2 * np.pi * f_i\n",
    "t = np.arange(vl)\n",
    "s_i = np.exp(t * 1j * w_i / Sr_i)"
   ]
  },
  {
   "cell_type": "code",
   "execution_count": 13,
   "id": "368e1402",
   "metadata": {},
   "outputs": [],
   "source": [
    "def reSample(v_in, s_i, s_o):\n",
    "    fv_i = np.fft.fft(v_in)\n",
    "    num_out_samps = int(v_in.shape * s_o / s_i)\n",
    "    fv_o = np.zeros(num_out_samps)\n",
    "    nos2 = int(num_out_samps / 2)\n",
    "    fv_o[0:nos2] = fv_i[0:nos2]\n",
    "    fv_o[nos2:] = fv_i[-nos2:]\n",
    "    v_o = np.fft.ifft(fv_o)\n",
    "    return v_o"
   ]
  },
  {
   "cell_type": "code",
   "execution_count": null,
   "id": "59530566",
   "metadata": {},
   "outputs": [],
   "source": []
  }
 ],
 "metadata": {
  "kernelspec": {
   "display_name": "Python 3 (ipykernel)",
   "language": "python",
   "name": "python3"
  },
  "language_info": {
   "codemirror_mode": {
    "name": "ipython",
    "version": 3
   },
   "file_extension": ".py",
   "mimetype": "text/x-python",
   "name": "python",
   "nbconvert_exporter": "python",
   "pygments_lexer": "ipython3",
   "version": "3.10.4"
  }
 },
 "nbformat": 4,
 "nbformat_minor": 5
}
