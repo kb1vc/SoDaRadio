{
 "cells": [
  {
   "cell_type": "code",
   "execution_count": null,
   "id": "83211f77",
   "metadata": {},
   "outputs": [],
   "source": [
    "%matplotlib notebook\n",
    "import matplotlib.pyplot as plt\n",
    "import numpy as np\n",
    "import scipy as sc\n",
    "import scipy.signal as sig"
   ]
  },
  {
   "cell_type": "code",
   "execution_count": null,
   "id": "340e8a6b",
   "metadata": {},
   "outputs": [],
   "source": [
    "Sr_i = 625\n",
    "Sr_o = 48\n",
    "vl = Sr_i * 48\n",
    "vl"
   ]
  },
  {
   "cell_type": "code",
   "execution_count": null,
   "id": "c80d9d32",
   "metadata": {},
   "outputs": [],
   "source": [
    "# sample input signal -- at 10 kHz \n",
    "f_i = 10\n",
    "w_i = 2 * np.pi * f_i\n",
    "t = np.arange(vl)\n",
    "s_i = np.exp(t * 1j * w_i / Sr_i)"
   ]
  },
  {
   "cell_type": "code",
   "execution_count": null,
   "id": "fe368e2c",
   "metadata": {},
   "outputs": [],
   "source": [
    "plt.plot(np.abs(np.fft.fft(s_i)/30000)[0:3000])"
   ]
  },
  {
   "cell_type": "code",
   "execution_count": null,
   "id": "d6094b39",
   "metadata": {},
   "outputs": [],
   "source": [
    "def makeLPF(cutoff, rate, length, taps):\n",
    "    fdi = np.zeros(length) * 1j\n",
    "    print(\"length = %d\" % length)\n",
    "    co_idx = int(length * cutoff / float(rate))\n",
    "    print(co_idx)\n",
    "    fdi[0:co_idx] = 1 + 0j\n",
    "    fdi[co_idx:co_idx+20] = np.linspace(1, 0, 20)\n",
    "    fdi[int(length/2):] = np.flip(fdi[0:int(length/2)])\n",
    "    \n",
    "    tdi = np.fft.ifft(fdi)\n",
    "    #plt.plot(tdi[0:200], label='pos')\n",
    "    #plt.plot(tdi[-200:], label='neg')\n",
    "    #print(tdi[-10:])\n",
    "    # window it\n",
    "    win = sig.windows.blackman(taps, sym=False)\n",
    "    #win = np.ones(taps)\n",
    "    tidx = int(taps/2)\n",
    "    #plt.plot(win)\n",
    "    \n",
    "    tdi[tidx:taps] = tdi[0:tidx+1]\n",
    "    tdi[0:tidx] = np.flip(tdi[1:tidx+1])\n",
    "    #plt.plot(tdi, label='prewin')\n",
    "    tdi[0:taps] = tdi[0:taps]*win\n",
    "    #plt.plot(tdi, label='shift')\n",
    "    \n",
    "    tdi[taps:] = 0 + 0j\n",
    "    tdi = np.real(tdi)\n",
    "    fo = np.fft.fft(tdi)\n",
    "\n",
    "    return fo, tdi, fdi\n",
    "    "
   ]
  },
  {
   "cell_type": "code",
   "execution_count": null,
   "id": "99fb6f6c",
   "metadata": {},
   "outputs": [],
   "source": [
    "fo2, tdi2, fdi2 = makeLPF(44, 625, vl, 51)\n",
    "#plt.plot(sig.windows.hamming(41, sym=True))\n",
    "#plt.plot(tdi[0:160])\n",
    "#plt.plot(tdi2[0:160])\n",
    "plt.xlim(20,30)\n",
    "#plt.ylim(-0.025,0.025)\n",
    "#plt.plot(tdi2[-160:])\n",
    "plt.grid()\n",
    "plt.legend()\n",
    "tdi2[22:28]"
   ]
  },
  {
   "cell_type": "code",
   "execution_count": null,
   "id": "891f411c",
   "metadata": {},
   "outputs": [],
   "source": [
    "def FDResamplerGross(U,D,inb):\n",
    "    # first calculate the LCM of the U/D spec\n",
    "    from math import gcd\n",
    "    g = gcd(U,D)\n",
    "    \n",
    "    in_blen = inb.size\n",
    "\n",
    "    # output buffer length has to be large enough that\n",
    "    # it is an even number of chunks at either sample rate. \n",
    "    if U > D: \n",
    "        in_blen_is_good = is_multiple(in_blen, D)\n",
    "    else:\n",
    "        in_blen_is_good = is_multiple(in_blen, U)\n",
    "    if not in_blen_is_good:\n",
    "        return -1\n",
    "    \n",
    "\n",
    "    # now transform\n",
    "    finbuf = np.fft.fft(inb)\n",
    "    \n",
    "    # do the OBVIOUS and grossly sub-optimal thing. \n",
    "    nbuf = np.zeros(blen * U) * 1j\n",
    "    blh = int((blen + 1) /2)\n",
    "    bhh = blen - blh\n",
    "    nbuf[0:blh] = finbuf[0:blh]\n",
    "    nbuf[-bhh:] = finbuf[-bhh:]\n",
    "    # now cut the low part off\n",
    "    olen = int(blen * U / D)\n",
    "    olh = int((olen + 1)/ 2)\n",
    "    ohh = olen - olh\n",
    "    out = np.zeros(olen) * 1j\n",
    "    out[0:olh] = nbuf[0:olh]\n",
    "    out[-ohh:] = nbuf[-ohh:]\n",
    "    print(\"blen = %d olen = %d\" % (blen, olen))\n",
    "    # now invert\n",
    "    return np.fft.ifft(out)"
   ]
  },
  {
   "cell_type": "code",
   "execution_count": null,
   "id": "05ea3d48",
   "metadata": {},
   "outputs": [],
   "source": [
    "def isMultiple(a, b):\n",
    "    adb = int(a / b)\n",
    "    print(\"a = %d b = %d adb = %f a * adb %f\" % (a, b, adb, (a * adb)))\n",
    "    return (b * adb) == a\n",
    "\n",
    "def FDResampler(U,D,inb):\n",
    "    # first calculate the LCM of the U/D spec\n",
    "    in_len = inb.size\n",
    " \n",
    "    in_blen_is_good = isMultiple(in_len, D)\n",
    "\n",
    "    \n",
    "    if not in_blen_is_good:\n",
    "        print(\"in_blen %d is not a good multiple U = %d D = %d\" % (in_len, D, U))\n",
    "        return -1 \n",
    "\n",
    "    fin = np.fft.fft(inb)\n",
    "    \n",
    "    # start simple : two cases\n",
    "    if U > D: \n",
    "        out_len = int(U * in_len / D)\n",
    "        fout = np.zeros(out_len) * 1j\n",
    "        olh = int((in_len + 1) / 2)\n",
    "        ohh = in_len - olh\n",
    "        fout[0:olh] = fin[0:olh]\n",
    "        fout[-ohh:] = fin[-ohh:]\n",
    "    elif U < D:\n",
    "        print('U %d in_len %d D %d U*in_len/D = %f' % (U, in_len, D, (U*in_len)/D))\n",
    "        out_len = int(U * in_len / D)\n",
    "        print(\"out_len = %d\" % out_len)\n",
    "        fout = np.zeros(out_len) * 1j\n",
    "        olh = int((out_len + 1)/ 2)\n",
    "        ohh = out_len - olh\n",
    "        fout[0:olh] = fin[0:olh]\n",
    "        fout[-ohh:] = fin[-ohh:]\n",
    "    else:\n",
    "        return inb\n",
    "    \n",
    "\n",
    "\n",
    "    # now invert\n",
    "    return (U / D) * np.fft.ifft(fout)"
   ]
  },
  {
   "cell_type": "code",
   "execution_count": null,
   "id": "e164f1a6",
   "metadata": {},
   "outputs": [],
   "source": [
    "tv = np.arange(1250)\n",
    "U=48\n",
    "D=625\n",
    "f1 = np.exp(1j * tv * np.pi/32)\n",
    "f2 = FDResampler(U,D, f1)\n",
    "f3 = FDResampler(52, D, f1)\n",
    "f1.size, f2.size, f3.size"
   ]
  },
  {
   "cell_type": "code",
   "execution_count": null,
   "id": "e8a9c212",
   "metadata": {},
   "outputs": [],
   "source": [
    "plt.plot(np.arange(f1.size), f1)\n",
    "plt.plot(np.arange(f2.size) * 625 / 48,  f2)\n",
    "plt.plot(np.arange(f3.size) * 625 / 52, f3)\n",
    "#"
   ]
  },
  {
   "cell_type": "code",
   "execution_count": null,
   "id": "bd6e2f08",
   "metadata": {},
   "outputs": [],
   "source": [
    "plt.plot(tv[0:23],np.real(f2[0:23]))"
   ]
  },
  {
   "cell_type": "code",
   "execution_count": null,
   "id": "090ac407",
   "metadata": {},
   "outputs": [],
   "source": [
    "plt.plot(np.real(np.fft.fft(f2)[0:500]))"
   ]
  },
  {
   "cell_type": "code",
   "execution_count": null,
   "id": "b6174335",
   "metadata": {},
   "outputs": [],
   "source": [
    "plt.plot(np.real(np.fft.fft(f1)[0:500]))"
   ]
  },
  {
   "cell_type": "code",
   "execution_count": null,
   "id": "00188932",
   "metadata": {},
   "outputs": [],
   "source": [
    "tv = np.arange(2304)\n",
    "U=625\n",
    "D=48\n",
    "f1 = np.exp(1j * tv * np.pi/32)\n",
    "f2 = FDResampler(U,D, f1)\n",
    "f3 = FDResampler(701,D,f1)\n",
    "tv,f1,f1.size,f2,f2.size,f3,f3.size # f1.size, f2.size"
   ]
  },
  {
   "cell_type": "code",
   "execution_count": null,
   "id": "7915777c",
   "metadata": {},
   "outputs": [],
   "source": [
    "33648 / 701"
   ]
  },
  {
   "cell_type": "code",
   "execution_count": null,
   "id": "fee0df59",
   "metadata": {},
   "outputs": [],
   "source": [
    "plt.plot(np.arange(f1.size), f1)\n",
    "#plt.plot(np.arange(f2.size) * 48/625, 1 + f2) # (625 / 48) * f2)\n",
    "plt.plot(np.arange(f3.size) * 48/701, 2 + f3)"
   ]
  },
  {
   "cell_type": "code",
   "execution_count": null,
   "id": "31f75e1b",
   "metadata": {},
   "outputs": [],
   "source": [
    "tv = np.arange(9)\n",
    "ts = np.fft.fftshift(tv)\n",
    "tis = np.fft.ifftshift(tv)"
   ]
  },
  {
   "cell_type": "code",
   "execution_count": null,
   "id": "f4ecc6a3",
   "metadata": {},
   "outputs": [],
   "source": [
    "tv, ts, tis"
   ]
  },
  {
   "cell_type": "code",
   "execution_count": null,
   "id": "0de0a628",
   "metadata": {},
   "outputs": [],
   "source": [
    "tv = np.arange(8)\n",
    "ts = np.fft.fftshift(tv)\n",
    "tis = np.fft.ifftshift(tv)\n",
    "tv,ts,tis"
   ]
  },
  {
   "cell_type": "code",
   "execution_count": null,
   "id": "48a40690",
   "metadata": {},
   "outputs": [],
   "source": [
    "tv = np.arange(2304 * 2)\n",
    "U=625\n",
    "D=48\n",
    "f1 = np.exp(1j * tv * np.pi/32) + np.exp(1j * tv * np.pi / 71) + np.exp(1j * tv / 23)\n",
    "f2_lo = FDResampler(U,D, f1[0:2304])\n",
    "f2_hi = FDResampler(U, D, f1[2304:])\n",
    "f2 = FDResampler(U, D, f1)\n",
    "np.sum(f2[0:30000] - f2_lo) + np.sum(f2[30000:] - f2_hi), np.max(np.real(f2[0:30000] - f2_lo)), np.max(np.real(f2[30000:] - f2_hi))"
   ]
  },
  {
   "cell_type": "code",
   "execution_count": null,
   "id": "ac3cb36c",
   "metadata": {},
   "outputs": [],
   "source": [
    "f2split = np.zeros(100)* 1j\n",
    "f2split[0:50] = f2_lo[-50:]\n",
    "f2split[50:] = f2_hi[0:50]\n",
    "plt.plot(np.real(f2split))\n",
    "plt.plot(np.real(f2[30000-50:30050]))\n",
    "plt.plot(np.imag(f2[30000-50:30050]))"
   ]
  },
  {
   "cell_type": "code",
   "execution_count": null,
   "id": "51ffaacc",
   "metadata": {},
   "outputs": [],
   "source": [
    "plt.plot(np.real(f1))"
   ]
  },
  {
   "cell_type": "code",
   "execution_count": null,
   "id": "788a33a9",
   "metadata": {},
   "outputs": [],
   "source": [
    "plt.plot(np.real(f1[2304-48:2304+48]))"
   ]
  },
  {
   "cell_type": "code",
   "execution_count": null,
   "id": "3b22866a",
   "metadata": {},
   "outputs": [],
   "source": [
    "plt.plot(np.real(f2[30000-625:30000+625]))"
   ]
  },
  {
   "cell_type": "code",
   "execution_count": null,
   "id": "74ca6b00",
   "metadata": {},
   "outputs": [],
   "source": [
    "f2_whole = np.concatenate((f2_lo, f2_hi))\n",
    "r=625\n",
    "fig,ax=plt.subplots()\n",
    "ax.plot(np.real(f2_whole[30000-r:30000+r] - f2[30000-r:30000+r]))\n",
    "ax.grid()\n",
    "f2_whole.shape"
   ]
  },
  {
   "cell_type": "code",
   "execution_count": null,
   "id": "6f1ce955",
   "metadata": {},
   "outputs": [],
   "source": [
    "class OSReSampler: \n",
    "    def __init__(self, U, D):\n",
    "        self.U = U\n",
    "        self.D = D\n",
    "\n",
    "        if U > D:\n",
    "            self.in_buf_size = D * (D - 1)   \n",
    "            self.out_len = U * D\n",
    "            \n",
    "            in_len = D * D\n",
    "            \n",
    "            self.olh = int((in_len + 1) / 2)\n",
    "            self.ohh = in_len - self.olh     \n",
    "            self.save_buf_size = D\n",
    "            self.save_buf = np.zeros(self.save_buf_size)* 1j\n",
    "            self.discard_count = U\n",
    "            self.lpf, _, _ = makeLPF(D*0.8,2*U, D * D, 41)\n",
    "            #self.lpf = np.zeros(1) \n",
    "        else:\n",
    "\n",
    "            self.in_buf_size = U * (D - 1)\n",
    "            self.out_len = U * U\n",
    "            \n",
    "            self.olh = int((self.out_len + 1) / 2)\n",
    "            self.ohh = self.out_len - self.olh\n",
    "            self.save_buf_size = D\n",
    "            self.save_buf = np.zeros(self.save_buf_size) * 1j        \n",
    "            self.discard_count = U\n",
    "            self.lpf, _, _= makeLPF(U * 0.8, 2*D, U*D, 41)\n",
    "\n",
    "        print(\"outlen %d in_buf_size %d olh %d ohh %d\" % (self.out_len, self.in_buf_size, self.olh, self.ohh))\n",
    "    \n",
    "    def getInBufSize(self):\n",
    "        return self.in_buf_size\n",
    "    \n",
    "    def apply(self, inb):\n",
    "        os_inbuf = np.concatenate((self.save_buf, inb))\n",
    "        self.save_buf = inb[-self.save_buf_size:]\n",
    "        \n",
    "        # now get the DFT image\n",
    "        fin = np.fft.fft(os_inbuf) #* self.lpf\n",
    "        if self.lpf.size != 1:\n",
    "            fin = fin * self.lpf\n",
    "        fout = np.zeros(self.out_len) * 1j\n",
    "        print(\"fin.size %d fout.size %d\" % (fin.size, fout.size))\n",
    "        fout[0:self.olh] = fin[0:self.olh]\n",
    "        fout[-self.ohh:] = fin[-self.ohh:]\n",
    "        \n",
    "        # now invert\n",
    "        pre_out = np.fft.ifft(fout)\n",
    "        # throw away the first dirty camples\n",
    "        return (self.U / self.D) * pre_out[self.discard_count:] \n",
    "   \n",
    " "
   ]
  },
  {
   "cell_type": "code",
   "execution_count": null,
   "id": "968a8755",
   "metadata": {},
   "outputs": [],
   "source": [
    "# buffers are in 2304 - 48 entry chunks. (48 element overlap on input)\n",
    "BL = 2304 - 48\n",
    "tv = np.arange(BL * 2)\n",
    "U=625\n",
    "D=48\n",
    "rsamp = OSReSampler(U, D)\n",
    "\n",
    "f1 = np.exp(1j * tv * np.pi/32) + np.exp(1j * tv * np.pi / 71) + np.exp(1j * tv / 23)\n",
    "# DC correct\n",
    "print(\"f1 mean = %f %f\" % (np.real(np.mean(f1)), np.imag(np.mean(f1))))\n",
    "f1 = f1 - np.mean(f1)\n",
    "# buffers are in 2304 - 48 entry chunks. (48 element overlap on input)\n",
    "\n",
    "f2_lo = rsamp.apply(f1[0:BL])\n",
    "f2_hi = rsamp.apply(f1[-BL:])\n",
    "#f2 = FDResampler(U, D, f1)\n",
    "mid=29375\n",
    "f2_lo.size, np.mean(f1), np.mean(f2_hi), np.mean(f2_lo)\n",
    "#np.sum(f2[0:mid] - f2_lo)  #+ #np.sum(f2[mid:] - f2_hi), np.max(np.real(f2[0:mid] - f2_lo)), np.max(np.real(f2[mid:] - f2_hi))"
   ]
  },
  {
   "cell_type": "code",
   "execution_count": null,
   "id": "0ce11ca3",
   "metadata": {},
   "outputs": [],
   "source": [
    "#plt.plot(np.imag(f2_lo[-625:]))\n",
    "#plt.plot(np.imag(f2_hi[0:625]))\n",
    "#plt.plot(np.imag(f2_hi[-625:]))\n",
    "#plt.plot(np.imag(f2_lo[0:625]))\n",
    "fig,ax = plt.subplots()\n",
    "ax.plot(np.concatenate((f2_lo[-625:], f2_hi[0:625])))\n",
    "f2_lo[0:10]\n",
    "ax.grid()\n",
    "f1.shape"
   ]
  },
  {
   "cell_type": "code",
   "execution_count": null,
   "id": "901f2dd0",
   "metadata": {},
   "outputs": [],
   "source": [
    "f2 = np.concatenate((f2_lo, f2_hi))\n",
    "\n",
    "f,v = sig.periodogram(f2, fs=625, window='blackman')\n",
    "fif,vif = sig.periodogram(f1, fs=48, window='blackman')\n",
    "\n",
    "fig,ax=plt.subplots()\n",
    "ax.plot(f, 20 * np.log10(v))\n",
    "ax.plot(fif, 20 * np.log10(vif))\n",
    "ax.grid()\n",
    "v.shape\n",
    "np.mean(np.real(f1)), np.mean(np.imag(f1)), np.mean(f2)"
   ]
  },
  {
   "cell_type": "code",
   "execution_count": null,
   "id": "1b72c05c",
   "metadata": {},
   "outputs": [],
   "source": [
    "# how about the other way? \n",
    "U = 48\n",
    "D = 625\n",
    "inbuflen =  D * (U - 1)\n",
    "print(\"inbuflen %d\" % inbuflen)\n",
    "iftv = np.arange(3 * inbuflen)\n",
    "f1 = 0.5\n",
    "f2 = 0.8\n",
    "f3 = 20.0\n",
    "fs = 625\n",
    "w1 = 2 * np.pi * f1 / fs\n",
    "w2 = 2 * np.pi * f2 / fs\n",
    "w3 = 2 * np.pi * f3 / fs\n",
    "ifsig = np.exp(1j * iftv * w1) + np.exp(1j * iftv * w2) + np.exp(1j * iftv * w3)\n",
    "downsamp = OSReSampler(U, D)\n",
    "audsig_0 = downsamp.apply(ifsig[0:inbuflen])\n",
    "audsig_1 = downsamp.apply(ifsig[inbuflen:inbuflen*2])\n",
    "audsig_2 = downsamp.apply(ifsig[inbuflen*2:])\n",
    "inbuflen"
   ]
  },
  {
   "cell_type": "code",
   "execution_count": null,
   "id": "9825c64c",
   "metadata": {},
   "outputs": [],
   "source": [
    "ifsig.size/2, audsig_1.size\n"
   ]
  },
  {
   "cell_type": "code",
   "execution_count": null,
   "id": "0a2dfef8",
   "metadata": {},
   "outputs": [],
   "source": [
    "fig,ax = plt.subplots()\n",
    "ax.plot(np.real(np.concatenate((audsig_0[-U:], audsig_1[0:U]))))\n",
    "ax.plot(np.real(np.concatenate((audsig_1[-U:], audsig_2[0:U]))))\n",
    "ax.grid()"
   ]
  },
  {
   "cell_type": "code",
   "execution_count": null,
   "id": "beaa1ece",
   "metadata": {},
   "outputs": [],
   "source": [
    "audsig = np.concatenate((audsig_0, audsig_1, audsig_2))\n",
    "audsig.size\n",
    "\n",
    "f,v = sig.periodogram(audsig, fs=48, window='blackman')\n",
    "fif,vif = sig.periodogram(ifsig, fs=625, window='blackman')\n",
    "\n",
    "fig,ax=plt.subplots()\n",
    "ax.plot(f, 20 * np.log10(v))\n",
    "ax.plot(fif, 20 * np.log10(vif))\n",
    "ax.grid()\n",
    "v.shape, vif.shape"
   ]
  },
  {
   "cell_type": "code",
   "execution_count": null,
   "id": "f0658345",
   "metadata": {},
   "outputs": [],
   "source": []
  }
 ],
 "metadata": {
  "kernelspec": {
   "display_name": "Python 3 (ipykernel)",
   "language": "python",
   "name": "python3"
  },
  "language_info": {
   "codemirror_mode": {
    "name": "ipython",
    "version": 3
   },
   "file_extension": ".py",
   "mimetype": "text/x-python",
   "name": "python",
   "nbconvert_exporter": "python",
   "pygments_lexer": "ipython3",
   "version": "3.10.4"
  }
 },
 "nbformat": 4,
 "nbformat_minor": 5
}
