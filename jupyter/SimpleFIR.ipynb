{
 "cells": [
  {
   "cell_type": "code",
   "execution_count": null,
   "id": "caeb6401",
   "metadata": {},
   "outputs": [],
   "source": [
    "import matplotlib.pyplot as plt\n",
    "import numpy as np\n",
    "import scipy as sc\n",
    "import scipy.signal as sig\n"
   ]
  },
  {
   "cell_type": "code",
   "execution_count": null,
   "id": "64fb5830",
   "metadata": {},
   "outputs": [],
   "source": [
    "def sweepFIR(taps):\n",
    "    # sweep a filter from -pi to pi\n",
    "    numtaps = taps.shape[0]\n",
    "    vec_size = numtaps * 300\n",
    "    # num freqs \n",
    "    num_freqs = 200\n",
    "    result = np.zeros(num_freqs)\n",
    "    # we'll use a complex vector\n",
    "    invec = np.zeros(vec_size) * 1j\n",
    "    outvec = np.zeros(vec_size) * 1j\n",
    "    tvec = np.arange(vec_size)\n",
    "    freq_incr = 2 * np.pi / num_freqs\n",
    "    freqs = np.arange(num_freqs) * freq_incr - np.pi\n",
    "    for i in range(num_freqs):\n",
    "        freq = freqs[i]\n",
    "        # load a sin into invec\n",
    "        invec = np.cos(freq * tvec) + 1j * np.sin(freq * tvec)\n",
    "        outvec = np.convolve(invec, taps, mode='valid')\n",
    "        # calculate amplitude\n",
    "        result[i] = np.abs(outvec)[vec_size - 2 * numtaps]\n",
    "    return freqs, result"
   ]
  },
  {
   "cell_type": "code",
   "execution_count": null,
   "id": "6e30a2c3",
   "metadata": {},
   "outputs": [],
   "source": [
    "five_avg = np.ones(5)\n",
    "fr,re = sweepFIR(five_avg)"
   ]
  },
  {
   "cell_type": "code",
   "execution_count": null,
   "id": "bb5bac0e",
   "metadata": {},
   "outputs": [],
   "source": [
    "plt.plot(fr, 20 * np.log10(re))\n",
    "plt.grid()\n",
    "plt.ylim(-80,30)"
   ]
  },
  {
   "cell_type": "code",
   "execution_count": null,
   "id": "5b456d8f",
   "metadata": {},
   "outputs": [],
   "source": [
    "f,r = sweepFIR(np.ones(11)/11)\n",
    "plt.plot(f, 20 * np.log10(r))\n",
    "plt.grid()"
   ]
  },
  {
   "cell_type": "code",
   "execution_count": null,
   "id": "e513d478",
   "metadata": {},
   "outputs": [],
   "source": [
    "def makeFIR(lc, hc, num_taps):\n",
    "    proto = np.zeros(num_taps)\n",
    "    # now put \"1's\" at the index from 0..hcutoff and lcutoff..end\n",
    "    # round to +/- infinity\n",
    "    \n",
    "    hcutoff = int(((hc / (2 * np.pi)) * num_taps) + (0.5 * abs(hc)/hc))\n",
    "    lcutoff = int(((lc / (2 * np.pi)) * num_taps) + (0.5 * abs(lc)/lc))\n",
    "\n",
    "    if hcutoff == 0:\n",
    "        hcutoff = 1\n",
    "    elif hcutoff < 0:\n",
    "        hcutoff = num_taps - hcutoff\n",
    "    \n",
    "    if lcutoff == 0:\n",
    "        lcutoff = num_taps - 1\n",
    "    elif lcutoff < 0:\n",
    "        lcutoff = num_taps + lcutoff\n",
    "\n",
    "    print(\"lcutoff %d hcutoff %d\" % (lcutoff, hcutoff))\n",
    "        \n",
    "    proto[0:hcutoff] = np.ones(hcutoff)\n",
    "    proto[lcutoff:] = np.ones(num_taps - lcutoff)\n",
    "    \n",
    "    # now we've got a freq domain prototype. \n",
    "    # do an ifft\n",
    "    proto = proto * (1 + 0j)\n",
    "    ptproto = np.fft.fft(proto)\n",
    "    tproto = np.fft.fftshift(ptproto)\n",
    "    # now window it\n",
    "    win = sig.windows.hamming(num_taps)\n",
    "    tproto = tproto * win\n",
    "    # and Bob's your uncle\n",
    "    return np.real(tproto), proto"
   ]
  },
  {
   "cell_type": "code",
   "execution_count": null,
   "id": "d3ea11f5",
   "metadata": {},
   "outputs": [],
   "source": [
    "qfilt, proto = makeFIR(-0.8, 0.8, 11)\n",
    "plt.plot(np.real(proto))"
   ]
  },
  {
   "cell_type": "code",
   "execution_count": null,
   "id": "aeaadf43",
   "metadata": {},
   "outputs": [],
   "source": [
    "plt.plot(proto)"
   ]
  },
  {
   "cell_type": "code",
   "execution_count": null,
   "id": "9c49a02a",
   "metadata": {},
   "outputs": [],
   "source": [
    "f,r = sweepFIR(qfilt)"
   ]
  },
  {
   "cell_type": "code",
   "execution_count": null,
   "id": "83681f3e",
   "metadata": {},
   "outputs": [],
   "source": [
    "plt.plot(f, 20 * np.log10(r) - 19)\n",
    "plt.grid()\n",
    "plt.ylim(-20,0)"
   ]
  },
  {
   "cell_type": "code",
   "execution_count": null,
   "id": "daf577ed",
   "metadata": {},
   "outputs": [],
   "source": [
    "hamming_filt = sig.windows.hamming(11)\n",
    "f, rh = sweepFIR(hamming_filt)\n",
    "plt.plot(f, 20 * np.log10(rh) - 15)\n",
    "plt.grid()\n",
    "plt.ylim(-20,0)"
   ]
  },
  {
   "cell_type": "code",
   "execution_count": null,
   "id": "8246e192",
   "metadata": {},
   "outputs": [],
   "source": [
    "good, pr = makeFIR(-0.8,0.8,41)\n",
    "f, gr = sweepFIR(good)"
   ]
  },
  {
   "cell_type": "code",
   "execution_count": null,
   "id": "e22dad14",
   "metadata": {},
   "outputs": [],
   "source": [
    "plt.plot(f, 20 * np.log10(gr/np.max(gr)))\n",
    "plt.grid()\n",
    "plt.ylim(-20,0)\n",
    "plt.xlim(-1,1)"
   ]
  },
  {
   "cell_type": "code",
   "execution_count": null,
   "id": "aa58c51a",
   "metadata": {},
   "outputs": [],
   "source": [
    "plt.plot(pr)"
   ]
  },
  {
   "cell_type": "code",
   "execution_count": null,
   "id": "e9947aed",
   "metadata": {},
   "outputs": [],
   "source": [
    "def doTaps(lc, hc, tmin, tmax, tstep):\n",
    "    plt.grid()\n",
    "    plt.ylim(-10,0.01)\n",
    "    plt.xlim(-1, 1)\n",
    "    for taps in range(tmin, tmax, tstep):\n",
    "        fi,_ = makeFIR(lc, hc, taps)\n",
    "        f, r = sweepFIR(fi)\n",
    "        plt.plot(f, 20 * np.log10(r / np.max(r)), label=(\"%d taps\" % taps))\n",
    "    plt.legend()   "
   ]
  },
  {
   "cell_type": "code",
   "execution_count": null,
   "id": "a6f6ff17",
   "metadata": {},
   "outputs": [],
   "source": [
    "doTaps(-0.8, 0.8, 5, 30, 4)"
   ]
  },
  {
   "cell_type": "code",
   "execution_count": null,
   "id": "0d5d8a61",
   "metadata": {},
   "outputs": [],
   "source": [
    "f35,p35 = makeFIR(-0.8,0.8,35)"
   ]
  },
  {
   "cell_type": "code",
   "execution_count": null,
   "id": "d505d2b6",
   "metadata": {},
   "outputs": [],
   "source": [
    "plt.plot(p35)"
   ]
  },
  {
   "cell_type": "code",
   "execution_count": null,
   "id": "fd89f155",
   "metadata": {},
   "outputs": [],
   "source": [
    "# what happens when we try a 29 tap remez exchange generated filter\n",
    "fil = sig.remez(51, [0, 0.8, 1.0, 3.14], [1,0], fs=6.28, type='bandpass')\n",
    "f29,p29 = makeFIR(-0.8,0.8,29)\n",
    "f51,p51 = makeFIR(-0.9,0.9,51)"
   ]
  },
  {
   "cell_type": "code",
   "execution_count": null,
   "id": "96eb294a",
   "metadata": {},
   "outputs": [],
   "source": [
    "f,rf = sweepFIR(fil)\n",
    "f,wf29 = sweepFIR(f29)\n",
    "f,wf51 = sweepFIR(f51)"
   ]
  },
  {
   "cell_type": "code",
   "execution_count": null,
   "id": "14ebc648",
   "metadata": {
    "scrolled": true
   },
   "outputs": [],
   "source": [
    "plt.plot(f, 20 * np.log10(rf), label=\"Remez Exchange: 51 taps\")\n",
    "plt.plot(f, 20 * np.log10(wf29 / np.max(wf29)), label='Window Filter: 29 taps')\n",
    "plt.plot(f, 20 * np.log10(wf51 / np.max(wf51)), label='Window Filter: 51 taps')\n",
    "plt.grid()\n",
    "plt.legend()\n",
    "plt.ylim(-100,1)\n",
    "#plt.xlim(-1.1,1.1)\n"
   ]
  },
  {
   "cell_type": "code",
   "execution_count": null,
   "id": "20e2d3bd",
   "metadata": {},
   "outputs": [],
   "source": [
    "plt.plot(f, 20 * np.log10(rf))\n",
    "plt.plot(f, 20 * np.log10(wf29 / np.max(wf29)))\n",
    "plt.grid()\n",
    "plt.ylim(-100,1)\n"
   ]
  },
  {
   "cell_type": "code",
   "execution_count": null,
   "id": "a02a3cc3",
   "metadata": {},
   "outputs": [],
   "source": []
  }
 ],
 "metadata": {
  "kernelspec": {
   "display_name": "Python 3 (ipykernel)",
   "language": "python",
   "name": "python3"
  },
  "language_info": {
   "codemirror_mode": {
    "name": "ipython",
    "version": 3
   },
   "file_extension": ".py",
   "mimetype": "text/x-python",
   "name": "python",
   "nbconvert_exporter": "python",
   "pygments_lexer": "ipython3",
   "version": "3.10.6"
  }
 },
 "nbformat": 4,
 "nbformat_minor": 5
}
